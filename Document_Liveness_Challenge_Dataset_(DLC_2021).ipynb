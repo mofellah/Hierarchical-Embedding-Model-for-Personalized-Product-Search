{
  "nbformat": 4,
  "nbformat_minor": 0,
  "metadata": {
    "colab": {
      "provenance": [],
      "include_colab_link": true
    },
    "kernelspec": {
      "name": "python3",
      "display_name": "Python 3"
    },
    "language_info": {
      "name": "python"
    }
  },
  "cells": [
    {
      "cell_type": "markdown",
      "metadata": {
        "id": "view-in-github",
        "colab_type": "text"
      },
      "source": [
        "<a href=\"https://colab.research.google.com/github/mofellah/Hierarchical-Embedding-Model-for-Personalized-Product-Search/blob/master/Document_Liveness_Challenge_Dataset_(DLC_2021).ipynb\" target=\"_parent\"><img src=\"https://colab.research.google.com/assets/colab-badge.svg\" alt=\"Open In Colab\"/></a>"
      ]
    },
    {
      "cell_type": "code",
      "execution_count": 7,
      "metadata": {
        "id": "tNegF6qOdDeo",
        "colab": {
          "base_uri": "https://localhost:8080/"
        },
        "outputId": "d7e644d5-1bd2-49fa-c7ba-4bfc804a0f33"
      },
      "outputs": [
        {
          "output_type": "stream",
          "name": "stdout",
          "text": [
            "Drive already mounted at /content/drive; to attempt to forcibly remount, call drive.mount(\"/content/drive\", force_remount=True).\n"
          ]
        }
      ],
      "source": [
        "from google.colab import drive\n",
        "drive.mount('/content/drive')"
      ]
    },
    {
      "cell_type": "code",
      "source": [
        "import os, sys\n",
        "import tensorflow as tf\n",
        "from tensorflow.keras.preprocessing.image import ImageDataGenerator\n",
        "from tensorflow.keras import layers\n",
        "from tensorflow.keras import Model\n",
        "from tensorflow.keras.models import Sequential\n",
        "from tensorflow.keras.optimizers import SGD, Adam\n",
        "from tensorflow.keras.layers import Dense, Flatten, GlobalAveragePooling2D, Dropout, Conv2D, MaxPooling2D\n",
        "from tensorflow.keras.applications import ResNet50\n",
        "from keras.models import model_from_json"
      ],
      "metadata": {
        "id": "oxSKCarPpLWD"
      },
      "execution_count": 1,
      "outputs": []
    },
    {
      "cell_type": "code",
      "source": [
        "! rm -rf drive/MyDrive/liveliness_check_dataset/screen*\n"
      ],
      "metadata": {
        "id": "WtvOjbiBrAXn"
      },
      "execution_count": 7,
      "outputs": []
    },
    {
      "cell_type": "code",
      "source": [
        "!mkdir drive/MyDrive/liveliness_check_dataset/screen_nn_train  drive/MyDrive/liveliness_check_dataset/screen_nn_test"
      ],
      "metadata": {
        "id": "nWQHzdefwKuI"
      },
      "execution_count": 9,
      "outputs": []
    },
    {
      "cell_type": "code",
      "source": [
        "ls -l drive/MyDrive/liveliness_check_dataset/data/re/clips/images/*/*/ |wc -l"
      ],
      "metadata": {
        "colab": {
          "base_uri": "https://localhost:8080/"
        },
        "id": "7yvUUug1yMh2",
        "outputId": "2d08b885-e838-4cbd-d5a1-0cf74ca080ba"
      },
      "execution_count": 14,
      "outputs": [
        {
          "output_type": "stream",
          "name": "stdout",
          "text": [
            "23095\n"
          ]
        }
      ]
    },
    {
      "cell_type": "code",
      "source": [
        "!ls -l drive/MyDrive/liveliness_check_dataset/data/re/clips/images/*/ |wc -l"
      ],
      "metadata": {
        "id": "1AkUMPkuyvuX"
      },
      "execution_count": null,
      "outputs": []
    },
    {
      "cell_type": "code",
      "source": [
        "!tree drive/MyDrive/liveliness_check_dataset/ -L 4"
      ],
      "metadata": {
        "colab": {
          "base_uri": "https://localhost:8080/"
        },
        "id": "agyzcIeB3wRV",
        "outputId": "a7b4d95f-222c-43d9-8731-624f738242d5"
      },
      "execution_count": 25,
      "outputs": [
        {
          "output_type": "stream",
          "name": "stdout",
          "text": [
            "\u001b[01;34mdrive/MyDrive/liveliness_check_dataset/\u001b[0m\n",
            "├── \u001b[01;34mdata\u001b[0m\n",
            "│   ├── \u001b[01;34mcc\u001b[0m\n",
            "│   │   ├── \u001b[01;34mclips\u001b[0m\n",
            "│   │   │   ├── \u001b[01;34mannotations\u001b[0m\n",
            "│   │   │   └── \u001b[01;34mimages\u001b[0m\n",
            "│   │   └── \u001b[01;34mclips_video\u001b[0m\n",
            "│   │       ├── \u001b[01;34malb_id\u001b[0m\n",
            "│   │       ├── \u001b[01;34maze_passport\u001b[0m\n",
            "│   │       ├── \u001b[01;34mesp_id\u001b[0m\n",
            "│   │       ├── \u001b[01;34mest_id\u001b[0m\n",
            "│   │       ├── \u001b[01;34mfin_id\u001b[0m\n",
            "│   │       ├── \u001b[01;34mgrc_passport\u001b[0m\n",
            "│   │       ├── \u001b[01;34mlva_passport\u001b[0m\n",
            "│   │       ├── \u001b[01;34mrus_internalpassport\u001b[0m\n",
            "│   │       ├── \u001b[01;34msrb_passport\u001b[0m\n",
            "│   │       └── \u001b[01;34msvk_id\u001b[0m\n",
            "│   ├── \u001b[01;34mcg\u001b[0m\n",
            "│   │   ├── \u001b[01;34mclips\u001b[0m\n",
            "│   │   │   ├── \u001b[01;34mannotations\u001b[0m\n",
            "│   │   │   └── \u001b[01;34mimages\u001b[0m\n",
            "│   │   └── \u001b[01;34mclips_video\u001b[0m\n",
            "│   │       ├── \u001b[01;34malb_id\u001b[0m\n",
            "│   │       ├── \u001b[01;34maze_passport\u001b[0m\n",
            "│   │       ├── \u001b[01;34mesp_id\u001b[0m\n",
            "│   │       ├── \u001b[01;34mest_id\u001b[0m\n",
            "│   │       ├── \u001b[01;34mfin_id\u001b[0m\n",
            "│   │       ├── \u001b[01;34mgrc_passport\u001b[0m\n",
            "│   │       ├── \u001b[01;34mlva_passport\u001b[0m\n",
            "│   │       ├── \u001b[01;34mrus_internalpassport\u001b[0m\n",
            "│   │       ├── \u001b[01;34msrb_passport\u001b[0m\n",
            "│   │       └── \u001b[01;34msvk_id\u001b[0m\n",
            "│   ├── \u001b[01;34mor\u001b[0m\n",
            "│   │   ├── \u001b[01;34mclips\u001b[0m\n",
            "│   │   │   ├── \u001b[01;34mannotations\u001b[0m\n",
            "│   │   │   └── \u001b[01;34mimages\u001b[0m\n",
            "│   │   └── \u001b[01;34mclips_video\u001b[0m\n",
            "│   │       ├── \u001b[01;34malb_id\u001b[0m\n",
            "│   │       ├── \u001b[01;34maze_passport\u001b[0m\n",
            "│   │       ├── \u001b[01;34mesp_id\u001b[0m\n",
            "│   │       ├── \u001b[01;34mest_id\u001b[0m\n",
            "│   │       ├── \u001b[01;34mfin_id\u001b[0m\n",
            "│   │       ├── \u001b[01;34mgrc_passport\u001b[0m\n",
            "│   │       ├── \u001b[01;34mlva_passport\u001b[0m\n",
            "│   │       ├── \u001b[01;34mrus_internalpassport\u001b[0m\n",
            "│   │       ├── \u001b[01;34msrb_passport\u001b[0m\n",
            "│   │       └── \u001b[01;34msvk_id\u001b[0m\n",
            "│   └── \u001b[01;34mre\u001b[0m\n",
            "│       ├── \u001b[01;34mclips\u001b[0m\n",
            "│       │   ├── \u001b[01;34mannotations\u001b[0m\n",
            "│       │   └── \u001b[01;34mimages\u001b[0m\n",
            "│       └── \u001b[01;34mclips_video\u001b[0m\n",
            "│           ├── \u001b[01;34malb_id\u001b[0m\n",
            "│           ├── \u001b[01;34maze_passport\u001b[0m\n",
            "│           ├── \u001b[01;34mesp_id\u001b[0m\n",
            "│           ├── \u001b[01;34mest_id\u001b[0m\n",
            "│           ├── \u001b[01;34mfin_id\u001b[0m\n",
            "│           ├── \u001b[01;34mgrc_passport\u001b[0m\n",
            "│           ├── \u001b[01;34mlva_passport\u001b[0m\n",
            "│           ├── \u001b[01;34mrus_internalpassport\u001b[0m\n",
            "│           ├── \u001b[01;34msrb_passport\u001b[0m\n",
            "│           └── \u001b[01;34msvk_id\u001b[0m\n",
            "├── \u001b[01;34mexperimental_baseline\u001b[0m\n",
            "├── \u001b[01;34mscreen_nn_test\u001b[0m\n",
            "└── \u001b[01;34mscreen_nn_train\u001b[0m\n",
            "\n",
            "64 directories, 0 files\n"
          ]
        }
      ]
    },
    {
      "cell_type": "code",
      "source": [
        "anomalies = [\"cc\", \"cg\", \"re\"]\n",
        "for anomaly in anomalies:\n",
        "  root = f\"drive/MyDrive/liveliness_check_dataset/data/{anomaly}/clips/images/\"\n"
      ],
      "metadata": {
        "id": "b7Ey1S7VvUpu"
      },
      "execution_count": null,
      "outputs": []
    },
    {
      "cell_type": "code",
      "source": [
        "import os\n",
        "import random\n",
        "import shutil\n",
        "import tensorflow as tf\n",
        "from tensorflow.keras import layers, models\n",
        "from sklearn.model_selection import train_test_split\n",
        "from tensorflow.keras.preprocessing.image import ImageDataGenerator\n",
        "\n",
        "# Paths to your dataset\n",
        "BASE_DIR =  \"/content/drive/MyDrive/liveliness_check_dataset/data\"\n",
        "#BASE_DIR = \"drive/MyDrive/liveliness_check_dataset/data\"\n",
        "RE_DIR = os.path.join(BASE_DIR, 're/clips/images')  # Screen-captured images\n",
        "OG_DIR = os.path.join(BASE_DIR, 'or/clips/images')  # Real images\n",
        "\n",
        "# Directories for training and testing data\n",
        "TRAIN_DIR = \"dataset/train\"\n",
        "TEST_DIR = \"dataset/test\"\n",
        "\n",
        "# Create train/test directories\n",
        "def create_train_test_dirs():\n",
        "    if not os.path.exists(TRAIN_DIR):\n",
        "        os.makedirs(os.path.join(TRAIN_DIR, 're'))\n",
        "        os.makedirs(os.path.join(TRAIN_DIR, 'or'))\n",
        "        os.makedirs(os.path.join(TEST_DIR, 're'))\n",
        "        os.makedirs(os.path.join(TEST_DIR, 'or'))\n",
        "\n",
        "# Function to split data into train/test\n",
        "def split_data(source_dir, train_dir, test_dir, split_size=0.8):\n",
        "    # Iterate through categories\n",
        "    for category in os.listdir(source_dir):\n",
        "        category_path = os.path.join(source_dir, category)\n",
        "\n",
        "        if os.path.isdir(category_path):  # Check if it's a directory\n",
        "            video_folders = os.listdir(category_path)\n",
        "            random.shuffle(video_folders)  # Shuffle video folders for random split\n",
        "\n",
        "            # Determine how many video folders to include in training vs testing\n",
        "            train_count = int(len(video_folders) * split_size)\n",
        "\n",
        "            train_videos = video_folders[:train_count]\n",
        "            test_videos = video_folders[train_count:]\n",
        "\n",
        "            # Copy files to the appropriate directories\n",
        "            for video_folder in train_videos:\n",
        "                video_folder_path = os.path.join(category_path, video_folder)\n",
        "                if os.path.isdir(video_folder_path):  # Check if it's a video folder\n",
        "                    shutil.copytree(video_folder_path, os.path.join(train_dir, category, video_folder))\n",
        "\n",
        "            for video_folder in test_videos:\n",
        "                video_folder_path = os.path.join(category_path, video_folder)\n",
        "                if os.path.isdir(video_folder_path):  # Check if it's a video folder\n",
        "                    shutil.copytree(video_folder_path, os.path.join(test_dir, category, video_folder))\n",
        "\n",
        "\n",
        "# Split the data into training and testing sets\n",
        "def prepare_data():\n",
        "    create_train_test_dirs()\n",
        "    split_data(RE_DIR, os.path.join(TRAIN_DIR, 're'), os.path.join(TEST_DIR, 're'))\n",
        "    split_data(OG_DIR, os.path.join(TRAIN_DIR, 'or'), os.path.join(TEST_DIR, 'or'))\n",
        "\n",
        "# Build a simple CNN model\n",
        "def build_model():\n",
        "    base_model = Sequential()\n",
        "    base_model.add(ResNet50(include_top=False, weights='imagenet', pooling='max'))\n",
        "    for layer in base_model.layers:\n",
        "      layer.trainable = False\n",
        "    base_model.add(Dense(2, activation='softmax'))\n",
        "    base_model.compile(optimizer = tf.keras.optimizers.Adam(learning_rate=1e-3), loss = 'binary_crossentropy', metrics = [\n",
        "                      tf.keras.metrics.Recall(class_id=1), tf.keras.metrics.Precision(class_id=1),\n",
        "                      tf.keras.metrics.BinaryAccuracy()])\n",
        "    base_model.summary()\n",
        "    return base_model\n",
        "\n",
        "# Train the model using ImageDataGenerator for data augmentation\n",
        "def train_model():\n",
        "    # Data augmentation\n",
        "    train_datagen = ImageDataGenerator(rescale=1.0/255., rotation_range=40, width_shift_range=0.2,\n",
        "                                       height_shift_range=0.2, shear_range=0.2, zoom_range=0.2, horizontal_flip=True)\n",
        "    test_datagen = ImageDataGenerator(rescale=1.0/255.)\n",
        "\n",
        "    # Load images from directories\n",
        "    train_generator = train_datagen.flow_from_directory(TRAIN_DIR, target_size=(150, 150),\n",
        "                                                        batch_size=32, class_mode='binary')\n",
        "    test_generator = test_datagen.flow_from_directory(TEST_DIR, target_size=(150, 150),\n",
        "                                                      batch_size=32, class_mode='binary')\n",
        "\n",
        "    # Build and train the model\n",
        "    model = build_model()\n",
        "    history = model.fit(train_generator, validation_data=test_generator, epochs=10, verbose=1)\n",
        "\n",
        "    # Save the model\n",
        "    model.save(\"re_og_classifier.h5\")\n",
        "    return history\n",
        "\n",
        "# Run the whole pipeline\n",
        "\n",
        "prepare_data()  # Prepare train/test datasets\n",
        "history = train_model()  # Train the model"
      ],
      "metadata": {
        "id": "sPRFy10j7hQz"
      },
      "execution_count": null,
      "outputs": []
    },
    {
      "cell_type": "code",
      "source": [
        "!ls drive/MyDrive/liveliness_check_dataset/data/cc/clips/images/*/*.jpg"
      ],
      "metadata": {
        "colab": {
          "base_uri": "https://localhost:8080/"
        },
        "id": "G2zl8nACu8mN",
        "outputId": "9e5c2b05-dc7f-4e59-faf7-bbdf7d043a28"
      },
      "execution_count": 5,
      "outputs": [
        {
          "output_type": "stream",
          "name": "stdout",
          "text": [
            "ls: cannot access 'drive/MyDrive/liveliness_check_dataset/data/cc/clips/images/*/*.jpg': No such file or directory\n"
          ]
        }
      ]
    },
    {
      "cell_type": "code",
      "source": [
        "!ls \"drive/MyDrive/Document Liveness Challenge Dataset (DLC-2021)\""
      ],
      "metadata": {
        "colab": {
          "base_uri": "https://localhost:8080/"
        },
        "id": "dFltJ15wrEj8",
        "outputId": "89842b7a-89bc-4c0d-e2b1-49f525ac06fa"
      },
      "execution_count": 15,
      "outputs": [
        {
          "output_type": "stream",
          "name": "stdout",
          "text": [
            "data  experimental_baseline  screen_nn_test  screen_nn_train\n"
          ]
        }
      ]
    },
    {
      "cell_type": "code",
      "source": [
        "exp_bl_dir = \"drive/MyDrive/Document Liveness Challenge Dataset (DLC-2021)\"\n",
        "train_dir = os.path.join(exp_bl_dir, \"data\")\n",
        "\n",
        "train_datagen = ImageDataGenerator(rescale = 1./255.)\n",
        "train_data = train_datagen.flow_from_directory(train_dir, batch_size = 256, class_mode = 'categorical', target_size = (224, 224))\n",
        "gpu_devices = tf.config.experimental.list_physical_devices('GPU')\n",
        "for device in gpu_devices:\n",
        "    tf.config.experimental.set_memory_growth(device, True)\n",
        "\n",
        "base_model = Sequential()\n",
        "base_model.add(ResNet50(include_top=False, weights='imagenet', pooling='max'))\n",
        "for layer in base_model.layers:\n",
        "  layer.trainable = False\n",
        "\n",
        "base_model.add(Dense(2, activation='softmax'))\n",
        "base_model.compile(optimizer = tf.keras.optimizers.Adam(learning_rate=1e-3), loss = 'binary_crossentropy', metrics = [\n",
        "                  tf.keras.metrics.Recall(class_id=1), tf.keras.metrics.Precision(class_id=1),\n",
        "                  tf.keras.metrics.BinaryAccuracy()])\n",
        "base_model.summary()\n",
        "resnet_nn = base_model.fit(train_data, steps_per_epoch = 100, epochs = 40)\n",
        "model_architecture = base_model.to_json()\n",
        "with open(os.path.join(exp_bl_dir, \"screen_nn_model.json\"), \"w\") as model_json:\n",
        "    model_json.write(model_architecture)\n",
        "base_model.save_weights(os.path.join(exp_bl_dir,\"screen_nn_weights.h\"))"
      ],
      "metadata": {
        "colab": {
          "base_uri": "https://localhost:8080/",
          "height": 365
        },
        "id": "DUbhBKvep6Vx",
        "outputId": "04ed381c-71da-45fe-a146-12fb188571db"
      },
      "execution_count": 18,
      "outputs": [
        {
          "output_type": "error",
          "ename": "KeyboardInterrupt",
          "evalue": "",
          "traceback": [
            "\u001b[0;31m---------------------------------------------------------------------------\u001b[0m",
            "\u001b[0;31mKeyboardInterrupt\u001b[0m                         Traceback (most recent call last)",
            "\u001b[0;32m<ipython-input-18-1fa324b3205f>\u001b[0m in \u001b[0;36m<cell line: 5>\u001b[0;34m()\u001b[0m\n\u001b[1;32m      3\u001b[0m \u001b[0;34m\u001b[0m\u001b[0m\n\u001b[1;32m      4\u001b[0m \u001b[0mtrain_datagen\u001b[0m \u001b[0;34m=\u001b[0m \u001b[0mImageDataGenerator\u001b[0m\u001b[0;34m(\u001b[0m\u001b[0mrescale\u001b[0m \u001b[0;34m=\u001b[0m \u001b[0;36m1.\u001b[0m\u001b[0;34m/\u001b[0m\u001b[0;36m255.\u001b[0m\u001b[0;34m)\u001b[0m\u001b[0;34m\u001b[0m\u001b[0;34m\u001b[0m\u001b[0m\n\u001b[0;32m----> 5\u001b[0;31m \u001b[0mtrain_data\u001b[0m \u001b[0;34m=\u001b[0m \u001b[0mtrain_datagen\u001b[0m\u001b[0;34m.\u001b[0m\u001b[0mflow_from_directory\u001b[0m\u001b[0;34m(\u001b[0m\u001b[0mtrain_dir\u001b[0m\u001b[0;34m,\u001b[0m \u001b[0mbatch_size\u001b[0m \u001b[0;34m=\u001b[0m \u001b[0;36m256\u001b[0m\u001b[0;34m,\u001b[0m \u001b[0mclass_mode\u001b[0m \u001b[0;34m=\u001b[0m \u001b[0;34m'categorical'\u001b[0m\u001b[0;34m,\u001b[0m \u001b[0mtarget_size\u001b[0m \u001b[0;34m=\u001b[0m \u001b[0;34m(\u001b[0m\u001b[0;36m224\u001b[0m\u001b[0;34m,\u001b[0m \u001b[0;36m224\u001b[0m\u001b[0;34m)\u001b[0m\u001b[0;34m)\u001b[0m\u001b[0;34m\u001b[0m\u001b[0;34m\u001b[0m\u001b[0m\n\u001b[0m\u001b[1;32m      6\u001b[0m \u001b[0mgpu_devices\u001b[0m \u001b[0;34m=\u001b[0m \u001b[0mtf\u001b[0m\u001b[0;34m.\u001b[0m\u001b[0mconfig\u001b[0m\u001b[0;34m.\u001b[0m\u001b[0mexperimental\u001b[0m\u001b[0;34m.\u001b[0m\u001b[0mlist_physical_devices\u001b[0m\u001b[0;34m(\u001b[0m\u001b[0;34m'GPU'\u001b[0m\u001b[0;34m)\u001b[0m\u001b[0;34m\u001b[0m\u001b[0;34m\u001b[0m\u001b[0m\n\u001b[1;32m      7\u001b[0m \u001b[0;32mfor\u001b[0m \u001b[0mdevice\u001b[0m \u001b[0;32min\u001b[0m \u001b[0mgpu_devices\u001b[0m\u001b[0;34m:\u001b[0m\u001b[0;34m\u001b[0m\u001b[0;34m\u001b[0m\u001b[0m\n",
            "\u001b[0;32m/usr/local/lib/python3.10/dist-packages/keras/src/legacy/preprocessing/image.py\u001b[0m in \u001b[0;36mflow_from_directory\u001b[0;34m(self, directory, target_size, color_mode, classes, class_mode, batch_size, shuffle, seed, save_to_dir, save_prefix, save_format, follow_links, subset, interpolation, keep_aspect_ratio)\u001b[0m\n\u001b[1;32m   1136\u001b[0m         \u001b[0mkeep_aspect_ratio\u001b[0m\u001b[0;34m=\u001b[0m\u001b[0;32mFalse\u001b[0m\u001b[0;34m,\u001b[0m\u001b[0;34m\u001b[0m\u001b[0;34m\u001b[0m\u001b[0m\n\u001b[1;32m   1137\u001b[0m     ):\n\u001b[0;32m-> 1138\u001b[0;31m         return DirectoryIterator(\n\u001b[0m\u001b[1;32m   1139\u001b[0m             \u001b[0mdirectory\u001b[0m\u001b[0;34m,\u001b[0m\u001b[0;34m\u001b[0m\u001b[0;34m\u001b[0m\u001b[0m\n\u001b[1;32m   1140\u001b[0m             \u001b[0mself\u001b[0m\u001b[0;34m,\u001b[0m\u001b[0;34m\u001b[0m\u001b[0;34m\u001b[0m\u001b[0m\n",
            "\u001b[0;32m/usr/local/lib/python3.10/dist-packages/keras/src/legacy/preprocessing/image.py\u001b[0m in \u001b[0;36m__init__\u001b[0;34m(self, directory, image_data_generator, target_size, color_mode, classes, class_mode, batch_size, shuffle, seed, data_format, save_to_dir, save_prefix, save_format, follow_links, subset, interpolation, keep_aspect_ratio, dtype)\u001b[0m\n\u001b[1;32m    479\u001b[0m         \u001b[0mclasses_list\u001b[0m \u001b[0;34m=\u001b[0m \u001b[0;34m[\u001b[0m\u001b[0;34m]\u001b[0m\u001b[0;34m\u001b[0m\u001b[0;34m\u001b[0m\u001b[0m\n\u001b[1;32m    480\u001b[0m         \u001b[0;32mfor\u001b[0m \u001b[0mres\u001b[0m \u001b[0;32min\u001b[0m \u001b[0mresults\u001b[0m\u001b[0;34m:\u001b[0m\u001b[0;34m\u001b[0m\u001b[0;34m\u001b[0m\u001b[0m\n\u001b[0;32m--> 481\u001b[0;31m             \u001b[0mclasses\u001b[0m\u001b[0;34m,\u001b[0m \u001b[0mfilenames\u001b[0m \u001b[0;34m=\u001b[0m \u001b[0mres\u001b[0m\u001b[0;34m.\u001b[0m\u001b[0mget\u001b[0m\u001b[0;34m(\u001b[0m\u001b[0;34m)\u001b[0m\u001b[0;34m\u001b[0m\u001b[0;34m\u001b[0m\u001b[0m\n\u001b[0m\u001b[1;32m    482\u001b[0m             \u001b[0mclasses_list\u001b[0m\u001b[0;34m.\u001b[0m\u001b[0mappend\u001b[0m\u001b[0;34m(\u001b[0m\u001b[0mclasses\u001b[0m\u001b[0;34m)\u001b[0m\u001b[0;34m\u001b[0m\u001b[0;34m\u001b[0m\u001b[0m\n\u001b[1;32m    483\u001b[0m             \u001b[0mself\u001b[0m\u001b[0;34m.\u001b[0m\u001b[0mfilenames\u001b[0m \u001b[0;34m+=\u001b[0m \u001b[0mfilenames\u001b[0m\u001b[0;34m\u001b[0m\u001b[0;34m\u001b[0m\u001b[0m\n",
            "\u001b[0;32m/usr/lib/python3.10/multiprocessing/pool.py\u001b[0m in \u001b[0;36mget\u001b[0;34m(self, timeout)\u001b[0m\n\u001b[1;32m    766\u001b[0m \u001b[0;34m\u001b[0m\u001b[0m\n\u001b[1;32m    767\u001b[0m     \u001b[0;32mdef\u001b[0m \u001b[0mget\u001b[0m\u001b[0;34m(\u001b[0m\u001b[0mself\u001b[0m\u001b[0;34m,\u001b[0m \u001b[0mtimeout\u001b[0m\u001b[0;34m=\u001b[0m\u001b[0;32mNone\u001b[0m\u001b[0;34m)\u001b[0m\u001b[0;34m:\u001b[0m\u001b[0;34m\u001b[0m\u001b[0;34m\u001b[0m\u001b[0m\n\u001b[0;32m--> 768\u001b[0;31m         \u001b[0mself\u001b[0m\u001b[0;34m.\u001b[0m\u001b[0mwait\u001b[0m\u001b[0;34m(\u001b[0m\u001b[0mtimeout\u001b[0m\u001b[0;34m)\u001b[0m\u001b[0;34m\u001b[0m\u001b[0;34m\u001b[0m\u001b[0m\n\u001b[0m\u001b[1;32m    769\u001b[0m         \u001b[0;32mif\u001b[0m \u001b[0;32mnot\u001b[0m \u001b[0mself\u001b[0m\u001b[0;34m.\u001b[0m\u001b[0mready\u001b[0m\u001b[0;34m(\u001b[0m\u001b[0;34m)\u001b[0m\u001b[0;34m:\u001b[0m\u001b[0;34m\u001b[0m\u001b[0;34m\u001b[0m\u001b[0m\n\u001b[1;32m    770\u001b[0m             \u001b[0;32mraise\u001b[0m \u001b[0mTimeoutError\u001b[0m\u001b[0;34m\u001b[0m\u001b[0;34m\u001b[0m\u001b[0m\n",
            "\u001b[0;32m/usr/lib/python3.10/multiprocessing/pool.py\u001b[0m in \u001b[0;36mwait\u001b[0;34m(self, timeout)\u001b[0m\n\u001b[1;32m    763\u001b[0m \u001b[0;34m\u001b[0m\u001b[0m\n\u001b[1;32m    764\u001b[0m     \u001b[0;32mdef\u001b[0m \u001b[0mwait\u001b[0m\u001b[0;34m(\u001b[0m\u001b[0mself\u001b[0m\u001b[0;34m,\u001b[0m \u001b[0mtimeout\u001b[0m\u001b[0;34m=\u001b[0m\u001b[0;32mNone\u001b[0m\u001b[0;34m)\u001b[0m\u001b[0;34m:\u001b[0m\u001b[0;34m\u001b[0m\u001b[0;34m\u001b[0m\u001b[0m\n\u001b[0;32m--> 765\u001b[0;31m         \u001b[0mself\u001b[0m\u001b[0;34m.\u001b[0m\u001b[0m_event\u001b[0m\u001b[0;34m.\u001b[0m\u001b[0mwait\u001b[0m\u001b[0;34m(\u001b[0m\u001b[0mtimeout\u001b[0m\u001b[0;34m)\u001b[0m\u001b[0;34m\u001b[0m\u001b[0;34m\u001b[0m\u001b[0m\n\u001b[0m\u001b[1;32m    766\u001b[0m \u001b[0;34m\u001b[0m\u001b[0m\n\u001b[1;32m    767\u001b[0m     \u001b[0;32mdef\u001b[0m \u001b[0mget\u001b[0m\u001b[0;34m(\u001b[0m\u001b[0mself\u001b[0m\u001b[0;34m,\u001b[0m \u001b[0mtimeout\u001b[0m\u001b[0;34m=\u001b[0m\u001b[0;32mNone\u001b[0m\u001b[0;34m)\u001b[0m\u001b[0;34m:\u001b[0m\u001b[0;34m\u001b[0m\u001b[0;34m\u001b[0m\u001b[0m\n",
            "\u001b[0;32m/usr/lib/python3.10/threading.py\u001b[0m in \u001b[0;36mwait\u001b[0;34m(self, timeout)\u001b[0m\n\u001b[1;32m    605\u001b[0m             \u001b[0msignaled\u001b[0m \u001b[0;34m=\u001b[0m \u001b[0mself\u001b[0m\u001b[0;34m.\u001b[0m\u001b[0m_flag\u001b[0m\u001b[0;34m\u001b[0m\u001b[0;34m\u001b[0m\u001b[0m\n\u001b[1;32m    606\u001b[0m             \u001b[0;32mif\u001b[0m \u001b[0;32mnot\u001b[0m \u001b[0msignaled\u001b[0m\u001b[0;34m:\u001b[0m\u001b[0;34m\u001b[0m\u001b[0;34m\u001b[0m\u001b[0m\n\u001b[0;32m--> 607\u001b[0;31m                 \u001b[0msignaled\u001b[0m \u001b[0;34m=\u001b[0m \u001b[0mself\u001b[0m\u001b[0;34m.\u001b[0m\u001b[0m_cond\u001b[0m\u001b[0;34m.\u001b[0m\u001b[0mwait\u001b[0m\u001b[0;34m(\u001b[0m\u001b[0mtimeout\u001b[0m\u001b[0;34m)\u001b[0m\u001b[0;34m\u001b[0m\u001b[0;34m\u001b[0m\u001b[0m\n\u001b[0m\u001b[1;32m    608\u001b[0m             \u001b[0;32mreturn\u001b[0m \u001b[0msignaled\u001b[0m\u001b[0;34m\u001b[0m\u001b[0;34m\u001b[0m\u001b[0m\n\u001b[1;32m    609\u001b[0m \u001b[0;34m\u001b[0m\u001b[0m\n",
            "\u001b[0;32m/usr/lib/python3.10/threading.py\u001b[0m in \u001b[0;36mwait\u001b[0;34m(self, timeout)\u001b[0m\n\u001b[1;32m    318\u001b[0m         \u001b[0;32mtry\u001b[0m\u001b[0;34m:\u001b[0m    \u001b[0;31m# restore state no matter what (e.g., KeyboardInterrupt)\u001b[0m\u001b[0;34m\u001b[0m\u001b[0;34m\u001b[0m\u001b[0m\n\u001b[1;32m    319\u001b[0m             \u001b[0;32mif\u001b[0m \u001b[0mtimeout\u001b[0m \u001b[0;32mis\u001b[0m \u001b[0;32mNone\u001b[0m\u001b[0;34m:\u001b[0m\u001b[0;34m\u001b[0m\u001b[0;34m\u001b[0m\u001b[0m\n\u001b[0;32m--> 320\u001b[0;31m                 \u001b[0mwaiter\u001b[0m\u001b[0;34m.\u001b[0m\u001b[0macquire\u001b[0m\u001b[0;34m(\u001b[0m\u001b[0;34m)\u001b[0m\u001b[0;34m\u001b[0m\u001b[0;34m\u001b[0m\u001b[0m\n\u001b[0m\u001b[1;32m    321\u001b[0m                 \u001b[0mgotit\u001b[0m \u001b[0;34m=\u001b[0m \u001b[0;32mTrue\u001b[0m\u001b[0;34m\u001b[0m\u001b[0;34m\u001b[0m\u001b[0m\n\u001b[1;32m    322\u001b[0m             \u001b[0;32melse\u001b[0m\u001b[0;34m:\u001b[0m\u001b[0;34m\u001b[0m\u001b[0;34m\u001b[0m\u001b[0m\n",
            "\u001b[0;31mKeyboardInterrupt\u001b[0m: "
          ]
        }
      ]
    }
  ]
}